{
 "cells": [
  {
   "attachments": {},
   "cell_type": "markdown",
   "id": "da9bf46b-f07e-4625-9f0a-7035f2cb2526",
   "metadata": {
    "tags": []
   },
   "source": [
    "# Homework - Cross validation (15 pts)"
   ]
  },
  {
   "cell_type": "markdown",
   "id": "5ff1ce62",
   "metadata": {},
   "source": [
    "---\n",
    "### Collaborators\n",
    "You MUST include a bulleted list with the full names of everyone you collaborated with on this assignment.\n",
    "- Jane Doe\n",
    "- John Doe"
   ]
  },
  {
   "attachments": {},
   "cell_type": "markdown",
   "id": "7189adf9",
   "metadata": {},
   "source": [
    "---\n",
    "The question below will use the diabetes dataset from sklearn. Note that the columns have already been standardized for you."
   ]
  },
  {
   "cell_type": "code",
   "execution_count": null,
   "id": "2650ad47",
   "metadata": {},
   "outputs": [],
   "source": [
    "from sklearn import datasets\n",
    "\n",
    "diabetes = datasets.load_diabetes()\n",
    "\n",
    "# features (X) are already standardized\n",
    "X = diabetes.data\n",
    "\n",
    "# target disease progression values are NOT standardized\n",
    "y = diabetes.target\n",
    "\n",
    "# name of each feature (columns of X)\n",
    "features = ['age', 'sex', 'bmi', 'bp', 'tc', 'ldl', 'hdl', 'tch', 'ltg', 'glu']\n",
    "\n",
    "print(diabetes.DESCR)"
   ]
  },
  {
   "attachments": {},
   "cell_type": "markdown",
   "id": "814e6617",
   "metadata": {},
   "source": [
    "---\n",
    "1. (3 pts) Split the patients in the dataset into training (80%) and testing (20%) sets."
   ]
  },
  {
   "cell_type": "code",
   "execution_count": null,
   "id": "e1d7b597",
   "metadata": {},
   "outputs": [],
   "source": []
  },
  {
   "attachments": {},
   "cell_type": "markdown",
   "id": "2c23a8a5",
   "metadata": {},
   "source": [
    "---\n",
    "2. (3 pts) Use 5-fold cross-validation to evaluate the training and testing (actually validation) mean squared error (MSE) for K-Nearest Neighbors (KNN) models with K ranging from 1 to 50. !!! ONLY use your training dataset to perform this cross-validation."
   ]
  },
  {
   "cell_type": "code",
   "execution_count": null,
   "id": "103dd77a",
   "metadata": {},
   "outputs": [],
   "source": []
  },
  {
   "attachments": {},
   "cell_type": "markdown",
   "id": "f19cccd6",
   "metadata": {},
   "source": [
    "---\n",
    "3. (3 pts) Plot the mean cross-validated training and testing MSE for each value of K. Determine which value of K is likely to be the best choice for modeling this dataset (use code to extract the best K, don't just visually input which one is best, e.g., see `np.argmin()`)."
   ]
  },
  {
   "cell_type": "code",
   "execution_count": null,
   "id": "c9870848",
   "metadata": {},
   "outputs": [],
   "source": []
  },
  {
   "attachments": {},
   "cell_type": "markdown",
   "id": "2dfec77f",
   "metadata": {},
   "source": [
    "---\n",
    "4. (3 pts) Retrain the model with your selected value of K on the entire training set and evaluate its $R^2$ score on the withheld testing set that you did not use for cross validation."
   ]
  },
  {
   "cell_type": "code",
   "execution_count": null,
   "id": "df7a1841",
   "metadata": {},
   "outputs": [],
   "source": []
  },
  {
   "attachments": {},
   "cell_type": "markdown",
   "id": "b01699db",
   "metadata": {},
   "source": [
    "5. (3pts) Finally, retrain your selected model on the entire original dataset. This is the final trained version you would use for further predictions."
   ]
  },
  {
   "cell_type": "code",
   "execution_count": null,
   "id": "5de93ba5",
   "metadata": {},
   "outputs": [],
   "source": []
  }
 ],
 "metadata": {
  "kernelspec": {
   "display_name": "neu365p",
   "language": "python",
   "name": "python3"
  },
  "language_info": {
   "codemirror_mode": {
    "name": "ipython",
    "version": 3
   },
   "file_extension": ".py",
   "mimetype": "text/x-python",
   "name": "python",
   "nbconvert_exporter": "python",
   "pygments_lexer": "ipython3",
   "version": "3.11.0"
  },
  "vscode": {
   "interpreter": {
    "hash": "7b6fce1537a0f61b09a1c0f374c9c73e53e0122f3da97a6f70c30069bc6a1f20"
   }
  }
 },
 "nbformat": 4,
 "nbformat_minor": 5
}
