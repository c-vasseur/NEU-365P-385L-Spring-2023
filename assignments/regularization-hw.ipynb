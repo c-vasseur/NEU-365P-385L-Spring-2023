{
 "cells": [
  {
   "attachments": {},
   "cell_type": "markdown",
   "id": "da9bf46b-f07e-4625-9f0a-7035f2cb2526",
   "metadata": {
    "tags": []
   },
   "source": [
    "# Homework - Regularization (9 pts)"
   ]
  },
  {
   "cell_type": "markdown",
   "id": "5ff1ce62",
   "metadata": {},
   "source": [
    "---\n",
    "### Collaborators\n",
    "You MUST include a bulleted list with the full names of everyone you collaborated with on this assignment.\n",
    "- Jane Doe\n",
    "- John Doe"
   ]
  },
  {
   "attachments": {},
   "cell_type": "markdown",
   "id": "7189adf9",
   "metadata": {},
   "source": [
    "---\n",
    "For the questions below, use a Poisson GLM to model the # of spikes at each time point $t$ as a function of the stimulus for the preceding 25 time points (inclusive of the current time point $t$)."
   ]
  },
  {
   "cell_type": "code",
   "execution_count": null,
   "id": "2650ad47",
   "metadata": {},
   "outputs": [],
   "source": [
    "import numpy as np\n",
    "\n",
    "# stimulus time series\n",
    "stim = np.load('regularization-hw-stim.npy')\n",
    "\n",
    "# number of spikes in response to stimulus for each time point\n",
    "spikes = np.load('regularization-hw-spikes.npy')\n",
    "\n",
    "spikes.shape, stim.shape"
   ]
  },
  {
   "cell_type": "code",
   "execution_count": null,
   "id": "0428dbc0",
   "metadata": {},
   "outputs": [],
   "source": [
    "import matplotlib.pyplot as plt\n",
    "%config InlineBackend.figure_format = 'retina'\n",
    "plt.style.use('bmh')\n",
    "plt.rcParams['figure.figsize'] = [12, 8]\n",
    "\n",
    "plt.subplot(211)\n",
    "plt.plot(stim[:200], 'o-')\n",
    "plt.ylabel('stim')\n",
    "plt.subplot(212)\n",
    "plt.plot(spikes[:200], 'o-')\n",
    "plt.xlabel('time pt')\n",
    "plt.ylabel('# spikes')\n",
    "plt.tight_layout();"
   ]
  },
  {
   "cell_type": "code",
   "execution_count": null,
   "id": "e1d7b597",
   "metadata": {},
   "outputs": [],
   "source": [
    "# X: feature matrix where the features for each time point \n",
    "#    are the stimuli in the preceding window\n",
    "T = len(stim)\n",
    "d = 25\n",
    "X = np.zeros((T, d))\n",
    "zstim = np.hstack([np.zeros(d-1), stim])\n",
    "for t in range(T):\n",
    "    X[t,:] = zstim[t:t+d]\n",
    "\n",
    "# y: target array of the number of spikes at each time point\n",
    "y = spikes\n",
    "\n",
    "X.shape, y.shape"
   ]
  },
  {
   "attachments": {},
   "cell_type": "markdown",
   "id": "814e6617",
   "metadata": {},
   "source": [
    "---\n",
    "1. (3 pts) Randomly shuffle the feature and target data (i.e., `X` and `y`) and store the shuffled data in `X_shuffled` and `y_shuffled`, respectively."
   ]
  },
  {
   "cell_type": "code",
   "execution_count": null,
   "id": "6e67d23e",
   "metadata": {},
   "outputs": [],
   "source": []
  },
  {
   "attachments": {},
   "cell_type": "markdown",
   "id": "b0cccb2a",
   "metadata": {},
   "source": [
    "---\n",
    "2. (3 pts) From the values of $\\alpha$ given below, use `GridSearchCV` to perform 5-fold cross validation to determine best value of $\\alpha$ for a `PoissonRegressor` GLM model. Make sure to use your shuffled data from above and use mean squared error to score."
   ]
  },
  {
   "cell_type": "code",
   "execution_count": null,
   "id": "40df3487",
   "metadata": {},
   "outputs": [],
   "source": [
    "alphas = np.logspace(-5, 2, 50)"
   ]
  },
  {
   "cell_type": "code",
   "execution_count": null,
   "id": "7785ef59",
   "metadata": {},
   "outputs": [],
   "source": []
  },
  {
   "attachments": {},
   "cell_type": "markdown",
   "id": "2c23a8a5",
   "metadata": {},
   "source": [
    "---\n",
    "3. (3 pts) Plot the mean +/- standard deviation of the test score for each $\\alpha$."
   ]
  },
  {
   "cell_type": "code",
   "execution_count": null,
   "id": "103dd77a",
   "metadata": {},
   "outputs": [],
   "source": []
  }
 ],
 "metadata": {
  "kernelspec": {
   "display_name": "neu365p",
   "language": "python",
   "name": "python3"
  },
  "language_info": {
   "codemirror_mode": {
    "name": "ipython",
    "version": 3
   },
   "file_extension": ".py",
   "mimetype": "text/x-python",
   "name": "python",
   "nbconvert_exporter": "python",
   "pygments_lexer": "ipython3",
   "version": "3.11.0"
  },
  "vscode": {
   "interpreter": {
    "hash": "7b6fce1537a0f61b09a1c0f374c9c73e53e0122f3da97a6f70c30069bc6a1f20"
   }
  }
 },
 "nbformat": 4,
 "nbformat_minor": 5
}
